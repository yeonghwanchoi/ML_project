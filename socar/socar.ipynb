{
 "cells": [
  {
   "cell_type": "code",
   "execution_count": 73,
   "id": "realistic-advancement",
   "metadata": {},
   "outputs": [],
   "source": [
    "from sklearn.preprocessing import RobustScaler, StandardScaler, MinMaxScaler, MaxAbsScaler\n",
    "import category_encoders as ce\n",
    "from sklearn.compose import ColumnTransformer\n",
    "from sklearn.ensemble import RandomForestClassifier\n",
    "from sklearn.pipeline import Pipeline"
   ]
  },
  {
   "cell_type": "code",
   "execution_count": 67,
   "id": "practical-melissa",
   "metadata": {},
   "outputs": [],
   "source": [
    "no_use_list=[]\n",
    "'b2b','sharing_type','has_previous_accident','car_model','accident_ratio','socarpass','socarsave','repair_cnt','insurance_site_aid_YN','total_prsn_cnt','car_part2','insurance_site_aid_YN'\n",
    "num_col_list=['repair_cost','insure_cost']\n",
    "\n",
    "no_cat_list = num_col_list + ['fraud_YN', 'test_set']"
   ]
  },
  {
   "cell_type": "code",
   "execution_count": 58,
   "id": "primary-pound",
   "metadata": {},
   "outputs": [
    {
     "data": {
      "text/plain": [
       "['repair_cost', 'insure_cost', 'fraud_YN', 'test_set']"
      ]
     },
     "execution_count": 58,
     "metadata": {},
     "output_type": "execute_result"
    }
   ],
   "source": [
    "no_cat_list"
   ]
  },
  {
   "cell_type": "code",
   "execution_count": null,
   "id": "tested-mount",
   "metadata": {},
   "outputs": [],
   "source": []
  },
  {
   "cell_type": "code",
   "execution_count": 68,
   "id": "frequent-aurora",
   "metadata": {},
   "outputs": [],
   "source": [
    "one_hot_col_list= [col for col in data.columns if col not in no_cat_list]\n",
    "OHE = ce.OneHotEncoder(cols=[col for col in data.columns if col not in no_cat_list])\n",
    "data = OHE.fit_transform(data)"
   ]
  },
  {
   "cell_type": "code",
   "execution_count": 56,
   "id": "searching-heart",
   "metadata": {},
   "outputs": [],
   "source": [
    "scaler= RobustScaler()\n",
    "data[num_col_list]=scaler.fit_transform(data[num_col_list])"
   ]
  },
  {
   "cell_type": "code",
   "execution_count": 64,
   "id": "strange-complexity",
   "metadata": {},
   "outputs": [],
   "source": [
    "test_y, train_y=data[\"fraud_YN\"][data['test_set']==1],data[\"fraud_YN\"][data['test_set']==0]\n",
    "test_x, train_x=data[data['test_set']==1].drop([\"fraud_YN\",'test_set'], axis=1),data[(data['test_set']==0)].drop([\"fraud_YN\",'test_set'], axis=1)"
   ]
  },
  {
   "cell_type": "code",
   "execution_count": 65,
   "id": "typical-action",
   "metadata": {},
   "outputs": [
    {
     "data": {
      "text/plain": [
       "((12879, 107), (3121, 107), (12879,), (3121,))"
      ]
     },
     "execution_count": 65,
     "metadata": {},
     "output_type": "execute_result"
    }
   ],
   "source": [
    "train_x.shape, test_x.shape, train_y.shape, test_y.shape"
   ]
  },
  {
   "cell_type": "code",
   "execution_count": null,
   "id": "ranking-herald",
   "metadata": {},
   "outputs": [],
   "source": [
    "from sklearn.metrics import (accuracy_score, precision_score, recall_score, f1_score, roc_auc_score)\n",
    "def get_clf_eval(y_test, pred):\n",
    "    acc=accuracy_score(y_test, pred)\n",
    "    pre=precision_score(y_test, pred)\n",
    "    re=recall_score(y_test, pred)\n",
    "    f1=f1_score(y_test, pred)\n",
    "    auc=roc_auc_score(y_test, pred)\n",
    "    return acc,pre,re,f1,auc"
   ]
  },
  {
   "cell_type": "code",
   "execution_count": null,
   "id": "technological-counter",
   "metadata": {},
   "outputs": [],
   "source": [
    "from sklearn.metrics import confusion_matrix\n",
    "def print_clf_eval(y_test,pred):\n",
    "    confusion = confusion_matrix(y_test, pred)\n",
    "    acc, pre, re, f1, auc = get_clf_eval(y_test, pred)\n",
    "    \n",
    "    print(confusion)\n",
    "    print(acc,pre)\n",
    "    print(re,f1,auc)"
   ]
  },
  {
   "cell_type": "code",
   "execution_count": null,
   "id": "social-wrestling",
   "metadata": {},
   "outputs": [],
   "source": []
  },
  {
   "cell_type": "code",
   "execution_count": null,
   "id": "declared-substitute",
   "metadata": {},
   "outputs": [],
   "source": []
  },
  {
   "cell_type": "code",
   "execution_count": 70,
   "id": "lasting-visitor",
   "metadata": {},
   "outputs": [],
   "source": [
    "pre_process = ColumnTransformer(remainder = 'passthrough', \n",
    "                                transformers=[('drop_columns', 'drop',no_use_list),\n",
    "                               ('scaler',scaler,num_col_list)])"
   ]
  },
  {
   "cell_type": "code",
   "execution_count": 74,
   "id": "going-watson",
   "metadata": {},
   "outputs": [],
   "source": [
    "full_pipeline = Pipeline(steps=[('pre_processing', pre_process), ('random_forest', RandomForestClassifier(max_depth=10,random_state=2))])"
   ]
  },
  {
   "cell_type": "code",
   "execution_count": 76,
   "id": "enormous-speaker",
   "metadata": {},
   "outputs": [
    {
     "data": {
      "text/plain": [
       "Pipeline(steps=[('pre_processing',\n",
       "                 ColumnTransformer(remainder='passthrough',\n",
       "                                   transformers=[('drop_columns', 'drop', []),\n",
       "                                                 ('scaler', RobustScaler(),\n",
       "                                                  ['repair_cost',\n",
       "                                                   'insure_cost'])])),\n",
       "                ('random_forest',\n",
       "                 RandomForestClassifier(max_depth=10, random_state=2))])"
      ]
     },
     "execution_count": 76,
     "metadata": {},
     "output_type": "execute_result"
    }
   ],
   "source": [
    "full_pipeline.fit(train_x, train_y)"
   ]
  },
  {
   "cell_type": "code",
   "execution_count": 77,
   "id": "comprehensive-hunter",
   "metadata": {},
   "outputs": [
    {
     "data": {
      "text/plain": [
       "array([0, 0, 0, ..., 0, 0, 0])"
      ]
     },
     "execution_count": 77,
     "metadata": {},
     "output_type": "execute_result"
    }
   ],
   "source": [
    "full_pipeline.predict(test_x)"
   ]
  },
  {
   "cell_type": "code",
   "execution_count": 13,
   "id": "dedicated-hazard",
   "metadata": {},
   "outputs": [],
   "source": [
    "# chat('police_site_aid_YN')"
   ]
  },
  {
   "cell_type": "code",
   "execution_count": null,
   "id": "effective-villa",
   "metadata": {},
   "outputs": [],
   "source": [
    "# def scaling(x):\n",
    "#     data_num_tmp=data_num.copy()\n",
    "#     transformer = x()\n",
    "#     x_data = transformer.fit_transform(data_num_tmp)\n",
    "#     data_num_tmp[data_num_tmp.columns]=x_data\n",
    "#     pd.plotting.scatter_matrix(data_num_tmp, alpha=0.2)\n",
    "#     data_num_tmp['fraud']=data['fraud_YN']\n",
    "#     insure_cost_dist=data_num_tmp[data_num_tmp['fraud']==1][['repair_cost','insure_cost']]\n",
    "#     insure_cost_dist.plot.box()\n",
    "# for i in [RobustScaler, StandardScaler, MinMaxScaler]:\n",
    "#     scaling(i)"
   ]
  },
  {
   "cell_type": "code",
   "execution_count": null,
   "id": "exciting-astrology",
   "metadata": {},
   "outputs": [],
   "source": [
    "y_test, y_train=data[[\"fraud_YN\"]][data['test_set']==1],data[[\"fraud_YN\"]][data['test_set']==0]\n",
    "x_test, x_train=data[data['test_set']==1].drop(\"fraud_YN\", axis=1),data[(data['test_set']==0)].drop(\"fraud_YN\", axis=1)"
   ]
  },
  {
   "cell_type": "code",
   "execution_count": null,
   "id": "worse-health",
   "metadata": {},
   "outputs": [],
   "source": [
    "x_train"
   ]
  },
  {
   "cell_type": "code",
   "execution_count": null,
   "id": "composed-candle",
   "metadata": {},
   "outputs": [],
   "source": [
    "# from sklearn.pipeline import Pipeline\n",
    "# from sklearn.preprocessing import RobustScaler\n",
    "# from sklearn.compose import ColumnTransformer\n",
    "# from sklearn.preprocessing import OrdinalEncoder\n",
    "# from sklearn.preprocessing import OneHotEncoder\n",
    "\n",
    "# num_col_list=['repair_cost','insure_cost']\n",
    "# drop_list= num_col_list + ['fraud_YN']\n",
    "# cat_col_list=[x for x in data.columns if x not in drop_list]\n",
    "\n",
    "# num_pipeline = Pipeline([\n",
    "#     ('robust_scaler', RobustScaler())\n",
    "# ])\n",
    "\n",
    "# full_pipeline = ColumnTransformer([\n",
    "#     (\"num\", num_pipeline, num_col_list),\n",
    "#     (\"cat\", OneHotEncoder(),cat_col_list)\n",
    "# ])\n",
    "# prepared_data = full_pipeline.fit_transform(x_train)"
   ]
  },
  {
   "cell_type": "code",
   "execution_count": null,
   "id": "rolled-surgeon",
   "metadata": {},
   "outputs": [],
   "source": [
    "from sklearn.linear_model import LinearRegression\n",
    "lin_reg = LinearRegression()\n",
    "lin_reg.fit(prepared_data, y_train)"
   ]
  },
  {
   "cell_type": "code",
   "execution_count": null,
   "id": "unknown-valuable",
   "metadata": {},
   "outputs": [],
   "source": [
    "def get_clf_eval(y_test, pred):\n",
    "    acc=accuracy_score(y_test, pred)\n",
    "    pre=precision_score(y_test, pred)\n",
    "    re=recall_score(y_test, pred)\n",
    "    f1=f1_score(y_test, pred)\n",
    "    auc=roc_auc_score(y_test, pred)\n",
    "    return acc,pre,re,f1,auc"
   ]
  },
  {
   "cell_type": "code",
   "execution_count": null,
   "id": "arctic-blame",
   "metadata": {},
   "outputs": [],
   "source": []
  }
 ],
 "metadata": {
  "kernelspec": {
   "display_name": "Python 3",
   "language": "python",
   "name": "python3"
  },
  "language_info": {
   "codemirror_mode": {
    "name": "ipython",
    "version": 3
   },
   "file_extension": ".py",
   "mimetype": "text/x-python",
   "name": "python",
   "nbconvert_exporter": "python",
   "pygments_lexer": "ipython3",
   "version": "3.8.5"
  },
  "toc": {
   "base_numbering": 1,
   "nav_menu": {},
   "number_sections": true,
   "sideBar": true,
   "skip_h1_title": false,
   "title_cell": "Table of Contents",
   "title_sidebar": "Contents",
   "toc_cell": false,
   "toc_position": {},
   "toc_section_display": true,
   "toc_window_display": false
  },
  "varInspector": {
   "cols": {
    "lenName": 16,
    "lenType": 16,
    "lenVar": 40
   },
   "kernels_config": {
    "python": {
     "delete_cmd_postfix": "",
     "delete_cmd_prefix": "del ",
     "library": "var_list.py",
     "varRefreshCmd": "print(var_dic_list())"
    },
    "r": {
     "delete_cmd_postfix": ") ",
     "delete_cmd_prefix": "rm(",
     "library": "var_list.r",
     "varRefreshCmd": "cat(var_dic_list()) "
    }
   },
   "types_to_exclude": [
    "module",
    "function",
    "builtin_function_or_method",
    "instance",
    "_Feature"
   ],
   "window_display": false
  }
 },
 "nbformat": 4,
 "nbformat_minor": 5
}
