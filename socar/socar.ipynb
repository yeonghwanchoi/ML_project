{
 "cells": [
  {
   "cell_type": "code",
   "execution_count": 108,
   "id": "realistic-advancement",
   "metadata": {},
   "outputs": [],
   "source": [
    "from sklearn.preprocessing import RobustScaler, StandardScaler, MinMaxScaler, MaxAbsScaler\n",
    "import category_encoders as ce\n",
    "from sklearn.compose import ColumnTransformer\n",
    "from sklearn.ensemble import RandomForestClassifier\n",
    "from sklearn.pipeline import Pipeline\n",
    "from imblearn.over_sampling import SMOTE\n",
    "from sklearn.tree import DecisionTreeClassifier\n",
    "from sklearn.linear_model import LogisticRegression\n",
    "from lightgbm import LGBMClassifier\n",
    "from imblearn.over_sampling import ADASYN"
   ]
  },
  {
   "cell_type": "code",
   "execution_count": 110,
   "id": "fossil-warrant",
   "metadata": {},
   "outputs": [],
   "source": [
    "data=pd.read_pickle('socar_origin_ko.p')"
   ]
  },
  {
   "cell_type": "code",
   "execution_count": 107,
   "id": "committed-housing",
   "metadata": {},
   "outputs": [],
   "source": [
    "no_use_list=['b2b','sharing_type','has_previous_accident','car_model','accident_ratio','socarpass','socarsave','repair_cnt','insurance_site_aid_YN','total_prsn_cnt','car_part2','insurance_site_aid_YN']\n",
    "\n",
    "num_col_list=['repair_cost','insure_cost']\n",
    "\n",
    "no_cat_list = num_col_list + ['fraud_YN', 'test_set']"
   ]
  },
  {
   "cell_type": "code",
   "execution_count": null,
   "id": "vanilla-trail",
   "metadata": {},
   "outputs": [],
   "source": [
    "data=data[[col for col in data.columns if col not in no_use_list]]"
   ]
  },
  {
   "cell_type": "code",
   "execution_count": 80,
   "id": "embedded-porcelain",
   "metadata": {},
   "outputs": [],
   "source": [
    "one_hot_col_list= [col for col in data.columns if col not in no_cat_list]\n",
    "OHE = ce.OneHotEncoder(cols=one_hot_col_list)\n",
    "data = OHE.fit_transform(data)"
   ]
  },
  {
   "cell_type": "code",
   "execution_count": 56,
   "id": "sensitive-berkeley",
   "metadata": {},
   "outputs": [],
   "source": [
    "scaler= RobustScaler()\n",
    "data[num_col_list]=scaler.fit_transform(data[num_col_list])"
   ]
  },
  {
   "cell_type": "code",
   "execution_count": 64,
   "id": "going-course",
   "metadata": {},
   "outputs": [],
   "source": [
    "test_y, train_y=data[\"fraud_YN\"][data['test_set']==1],data[\"fraud_YN\"][data['test_set']==0]\n",
    "test_x, train_x=data[data['test_set']==1].drop([\"fraud_YN\",'test_set'], axis=1),data[(data['test_set']==0)].drop([\"fraud_YN\",'test_set'], axis=1)"
   ]
  },
  {
   "cell_type": "code",
   "execution_count": 65,
   "id": "grand-seafood",
   "metadata": {},
   "outputs": [
    {
     "data": {
      "text/plain": [
       "((12879, 107), (3121, 107), (12879,), (3121,))"
      ]
     },
     "execution_count": 65,
     "metadata": {},
     "output_type": "execute_result"
    }
   ],
   "source": [
    "train_x.shape, test_x.shape, train_y.shape, test_y.shape"
   ]
  },
  {
   "cell_type": "code",
   "execution_count": 85,
   "id": "martial-resort",
   "metadata": {},
   "outputs": [],
   "source": [
    "smote=SMOTE(random_state=13)\n",
    "x_train_over, y_train_over = smote.fit_resample(x_train, y_train)"
   ]
  },
  {
   "cell_type": "code",
   "execution_count": 90,
   "id": "immediate-coaching",
   "metadata": {},
   "outputs": [],
   "source": [
    "rf_clf = RandomForestClassifier(random_state=13, n_jobs = -1 , n_estimators=100)\n",
    "dt_clf = DecisionTreeClassifier(random_state=13, max_depth=4)\n",
    "lr_clf = LogisticRegression(random_state=13, solver='liblinear')\n",
    "lgbm_clf = LGBMClassifier(n_estimators=1000, num_leaves=64, n_jobs=-1, boost_from_average=False)\n"
   ]
  },
  {
   "cell_type": "code",
   "execution_count": 81,
   "id": "changed-burden",
   "metadata": {},
   "outputs": [],
   "source": [
    "from sklearn.metrics import (accuracy_score, precision_score, recall_score, f1_score, roc_auc_score)\n",
    "def get_clf_eval(y_test, pred):\n",
    "    acc=accuracy_score(y_test, pred)\n",
    "    pre=precision_score(y_test, pred)\n",
    "    re=recall_score(y_test, pred)\n",
    "    f1=f1_score(y_test, pred)\n",
    "    auc=roc_auc_score(y_test, pred)\n",
    "    return acc,pre,re,f1,auc"
   ]
  },
  {
   "cell_type": "code",
   "execution_count": 82,
   "id": "absent-marshall",
   "metadata": {},
   "outputs": [],
   "source": [
    "from sklearn.metrics import confusion_matrix\n",
    "def print_clf_eval(y_test,pred):\n",
    "    confusion = confusion_matrix(y_test, pred)\n",
    "    acc, pre, re, f1, auc = get_clf_eval(y_test, pred)\n",
    "    \n",
    "    print(confusion)\n",
    "    print(acc,pre)\n",
    "    print(re,f1,auc)"
   ]
  },
  {
   "cell_type": "code",
   "execution_count": 102,
   "id": "efficient-census",
   "metadata": {},
   "outputs": [],
   "source": [
    "def get_result(model, x_train, y_train, x_test, y_test):\n",
    "    model.fit(x_train, y_train)\n",
    "    pred=model.predict(x_test)\n",
    "    return get_clf_eval(y_test, pred)"
   ]
  },
  {
   "cell_type": "code",
   "execution_count": 103,
   "id": "educational-amino",
   "metadata": {},
   "outputs": [],
   "source": [
    "def get_result_pd(models, model_names, x_train, y_train, x_test, y_test):\n",
    "    col_names = ['accuracy', 'precision','recall','f1','roc_auc']\n",
    "    tmp = []\n",
    "    for model in models:\n",
    "        tmp.append(get_result(model, x_train, y_train, x_test, y_test))\n",
    "    return pd.DataFrame(tmp, columns=col_names, index=model_names)"
   ]
  },
  {
   "cell_type": "code",
   "execution_count": 104,
   "id": "controlled-exclusive",
   "metadata": {},
   "outputs": [],
   "source": [
    "models = [lr_clf, dt_clf, rf_clf, lgbm_clf]\n",
    "model_names = ['LinearReg','DecisionTree', 'RandomForest', 'LightGBM']"
   ]
  },
  {
   "cell_type": "code",
   "execution_count": 105,
   "id": "executive-nigeria",
   "metadata": {},
   "outputs": [],
   "source": [
    "results = get_result_pd(models, model_names, x_train_over, y_train_over, x_test, y_test)"
   ]
  },
  {
   "cell_type": "code",
   "execution_count": 106,
   "id": "happy-woman",
   "metadata": {},
   "outputs": [
    {
     "data": {
      "text/html": [
       "<div>\n",
       "<style scoped>\n",
       "    .dataframe tbody tr th:only-of-type {\n",
       "        vertical-align: middle;\n",
       "    }\n",
       "\n",
       "    .dataframe tbody tr th {\n",
       "        vertical-align: top;\n",
       "    }\n",
       "\n",
       "    .dataframe thead th {\n",
       "        text-align: right;\n",
       "    }\n",
       "</style>\n",
       "<table border=\"1\" class=\"dataframe\">\n",
       "  <thead>\n",
       "    <tr style=\"text-align: right;\">\n",
       "      <th></th>\n",
       "      <th>accuracy</th>\n",
       "      <th>precision</th>\n",
       "      <th>recall</th>\n",
       "      <th>f1</th>\n",
       "      <th>roc_auc</th>\n",
       "    </tr>\n",
       "  </thead>\n",
       "  <tbody>\n",
       "    <tr>\n",
       "      <th>LinearReg</th>\n",
       "      <td>0.997757</td>\n",
       "      <td>0.000000</td>\n",
       "      <td>0.000000</td>\n",
       "      <td>0.000000</td>\n",
       "      <td>0.500000</td>\n",
       "    </tr>\n",
       "    <tr>\n",
       "      <th>DecisionTree</th>\n",
       "      <td>0.731817</td>\n",
       "      <td>0.003589</td>\n",
       "      <td>0.428571</td>\n",
       "      <td>0.007117</td>\n",
       "      <td>0.580535</td>\n",
       "    </tr>\n",
       "    <tr>\n",
       "      <th>RandomForest</th>\n",
       "      <td>0.997757</td>\n",
       "      <td>0.000000</td>\n",
       "      <td>0.000000</td>\n",
       "      <td>0.000000</td>\n",
       "      <td>0.500000</td>\n",
       "    </tr>\n",
       "    <tr>\n",
       "      <th>LightGBM</th>\n",
       "      <td>0.997757</td>\n",
       "      <td>0.000000</td>\n",
       "      <td>0.000000</td>\n",
       "      <td>0.000000</td>\n",
       "      <td>0.500000</td>\n",
       "    </tr>\n",
       "  </tbody>\n",
       "</table>\n",
       "</div>"
      ],
      "text/plain": [
       "              accuracy  precision    recall        f1   roc_auc\n",
       "LinearReg     0.997757   0.000000  0.000000  0.000000  0.500000\n",
       "DecisionTree  0.731817   0.003589  0.428571  0.007117  0.580535\n",
       "RandomForest  0.997757   0.000000  0.000000  0.000000  0.500000\n",
       "LightGBM      0.997757   0.000000  0.000000  0.000000  0.500000"
      ]
     },
     "execution_count": 106,
     "metadata": {},
     "output_type": "execute_result"
    }
   ],
   "source": [
    "results"
   ]
  },
  {
   "cell_type": "code",
   "execution_count": null,
   "id": "grand-organ",
   "metadata": {},
   "outputs": [],
   "source": []
  },
  {
   "cell_type": "code",
   "execution_count": null,
   "id": "heard-interest",
   "metadata": {},
   "outputs": [],
   "source": []
  },
  {
   "cell_type": "code",
   "execution_count": null,
   "id": "instructional-cambodia",
   "metadata": {},
   "outputs": [],
   "source": []
  },
  {
   "cell_type": "code",
   "execution_count": null,
   "id": "conservative-vegetation",
   "metadata": {},
   "outputs": [],
   "source": []
  },
  {
   "cell_type": "code",
   "execution_count": 70,
   "id": "reasonable-limit",
   "metadata": {},
   "outputs": [],
   "source": [
    "pre_process = ColumnTransformer(remainder = 'passthrough', \n",
    "                                transformers=[('drop_columns', 'drop',no_use_list),\n",
    "                               ('scaler',scaler,num_col_list)])"
   ]
  },
  {
   "cell_type": "code",
   "execution_count": 74,
   "id": "continent-citation",
   "metadata": {},
   "outputs": [],
   "source": [
    "full_pipeline = Pipeline(steps=[('pre_processing', pre_process), ('random_forest', RandomForestClassifier(max_depth=10,random_state=2))])"
   ]
  },
  {
   "cell_type": "code",
   "execution_count": 76,
   "id": "requested-sunset",
   "metadata": {},
   "outputs": [
    {
     "data": {
      "text/plain": [
       "Pipeline(steps=[('pre_processing',\n",
       "                 ColumnTransformer(remainder='passthrough',\n",
       "                                   transformers=[('drop_columns', 'drop', []),\n",
       "                                                 ('scaler', RobustScaler(),\n",
       "                                                  ['repair_cost',\n",
       "                                                   'insure_cost'])])),\n",
       "                ('random_forest',\n",
       "                 RandomForestClassifier(max_depth=10, random_state=2))])"
      ]
     },
     "execution_count": 76,
     "metadata": {},
     "output_type": "execute_result"
    }
   ],
   "source": [
    "full_pipeline.fit(train_x, train_y)"
   ]
  },
  {
   "cell_type": "code",
   "execution_count": 77,
   "id": "standing-needle",
   "metadata": {},
   "outputs": [
    {
     "data": {
      "text/plain": [
       "array([0, 0, 0, ..., 0, 0, 0])"
      ]
     },
     "execution_count": 77,
     "metadata": {},
     "output_type": "execute_result"
    }
   ],
   "source": [
    "full_pipeline.predict(test_x)"
   ]
  },
  {
   "cell_type": "code",
   "execution_count": 13,
   "id": "dedicated-hazard",
   "metadata": {},
   "outputs": [],
   "source": [
    "# chat('police_site_aid_YN')"
   ]
  },
  {
   "cell_type": "code",
   "execution_count": null,
   "id": "effective-villa",
   "metadata": {},
   "outputs": [],
   "source": [
    "# def scaling(x):\n",
    "#     data_num_tmp=data_num.copy()\n",
    "#     transformer = x()\n",
    "#     x_data = transformer.fit_transform(data_num_tmp)\n",
    "#     data_num_tmp[data_num_tmp.columns]=x_data\n",
    "#     pd.plotting.scatter_matrix(data_num_tmp, alpha=0.2)\n",
    "#     data_num_tmp['fraud']=data['fraud_YN']\n",
    "#     insure_cost_dist=data_num_tmp[data_num_tmp['fraud']==1][['repair_cost','insure_cost']]\n",
    "#     insure_cost_dist.plot.box()\n",
    "# for i in [RobustScaler, StandardScaler, MinMaxScaler]:\n",
    "#     scaling(i)"
   ]
  },
  {
   "cell_type": "code",
   "execution_count": null,
   "id": "composed-candle",
   "metadata": {},
   "outputs": [],
   "source": [
    "# from sklearn.pipeline import Pipeline\n",
    "# from sklearn.preprocessing import RobustScaler\n",
    "# from sklearn.compose import ColumnTransformer\n",
    "# from sklearn.preprocessing import OrdinalEncoder\n",
    "# from sklearn.preprocessing import OneHotEncoder\n",
    "\n",
    "# num_col_list=['repair_cost','insure_cost']\n",
    "# drop_list= num_col_list + ['fraud_YN']\n",
    "# cat_col_list=[x for x in data.columns if x not in drop_list]\n",
    "\n",
    "# num_pipeline = Pipeline([\n",
    "#     ('robust_scaler', RobustScaler())\n",
    "# ])\n",
    "\n",
    "# full_pipeline = ColumnTransformer([\n",
    "#     (\"num\", num_pipeline, num_col_list),\n",
    "#     (\"cat\", OneHotEncoder(),cat_col_list)\n",
    "# ])\n",
    "# prepared_data = full_pipeline.fit_transform(x_train)"
   ]
  }
 ],
 "metadata": {
  "kernelspec": {
   "display_name": "Python 3",
   "language": "python",
   "name": "python3"
  },
  "language_info": {
   "codemirror_mode": {
    "name": "ipython",
    "version": 3
   },
   "file_extension": ".py",
   "mimetype": "text/x-python",
   "name": "python",
   "nbconvert_exporter": "python",
   "pygments_lexer": "ipython3",
   "version": "3.8.5"
  },
  "toc": {
   "base_numbering": 1,
   "nav_menu": {},
   "number_sections": true,
   "sideBar": true,
   "skip_h1_title": false,
   "title_cell": "Table of Contents",
   "title_sidebar": "Contents",
   "toc_cell": false,
   "toc_position": {},
   "toc_section_display": true,
   "toc_window_display": false
  },
  "varInspector": {
   "cols": {
    "lenName": 16,
    "lenType": 16,
    "lenVar": 40
   },
   "kernels_config": {
    "python": {
     "delete_cmd_postfix": "",
     "delete_cmd_prefix": "del ",
     "library": "var_list.py",
     "varRefreshCmd": "print(var_dic_list())"
    },
    "r": {
     "delete_cmd_postfix": ") ",
     "delete_cmd_prefix": "rm(",
     "library": "var_list.r",
     "varRefreshCmd": "cat(var_dic_list()) "
    }
   },
   "types_to_exclude": [
    "module",
    "function",
    "builtin_function_or_method",
    "instance",
    "_Feature"
   ],
   "window_display": false
  }
 },
 "nbformat": 4,
 "nbformat_minor": 5
}
